{
 "cells": [
  {
   "cell_type": "code",
   "execution_count": 24,
   "id": "58ab2dbf",
   "metadata": {},
   "outputs": [
    {
     "name": "stdout",
     "output_type": "stream",
     "text": [
      "Hello, World!\n"
     ]
    }
   ],
   "source": [
    "#데이터 생성후 csv로 저장\n",
    "import random\n",
    "import pandas as pd\n",
    "\n",
    "def main():\n",
    "\n",
    "    print(\"Hello, World!\")\n",
    "\n",
    "\n",
    "\n",
    "if __name__ == '__main__':\n",
    "\n",
    " \n",
    "\n",
    "    main()\n",
    "    \n",
    "n_list = [100, 1000, 10000, 100000]\n",
    "\n",
    "df_list = []\n",
    "\n",
    "for n in n_list:\n",
    "    result = []\n",
    "    for i in range(n):\n",
    "        result.append(random.randint(1, 6))\n",
    "    result_dict = {x: result.count(x) for x in range(1, 7)}\n",
    "    df = pd.DataFrame.from_dict(result_dict, orient='index', columns=['count'])\n",
    "    df.index.name = 'number'\n",
    "    df_list.append(df)\n",
    "\n",
    "combined_df = pd.concat(df_list, axis=1, keys=n_list)\n",
    "combined_df = combined_df.transpose()\n",
    "combined_df.to_csv('result.csv')\n"
   ]
  },
  {
   "cell_type": "code",
   "execution_count": null,
   "id": "198b3904",
   "metadata": {},
   "outputs": [],
   "source": []
  }
 ],
 "metadata": {
  "kernelspec": {
   "display_name": "Python 3 (ipykernel)",
   "language": "python",
   "name": "python3"
  },
  "language_info": {
   "codemirror_mode": {
    "name": "ipython",
    "version": 3
   },
   "file_extension": ".py",
   "mimetype": "text/x-python",
   "name": "python",
   "nbconvert_exporter": "python",
   "pygments_lexer": "ipython3",
   "version": "3.9.7"
  }
 },
 "nbformat": 4,
 "nbformat_minor": 5
}
